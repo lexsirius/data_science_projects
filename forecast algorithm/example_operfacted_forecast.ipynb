{
 "cells": [
  {
   "cell_type": "code",
   "execution_count": null,
   "metadata": {
    "collapsed": true,
    "jupyter": {
     "outputs_hidden": true
    }
   },
   "outputs": [],
   "source": [
    "import pandas as pd\n",
    "import operfacted_forecast as op_fc"
   ]
  },
  {
   "cell_type": "code",
   "execution_count": null,
   "metadata": {},
   "outputs": [],
   "source": [
    "data = pd.read_csv('data_with_jule.csv', parse_dates = ['ReportDate', 'month_date'], sep= ';', decimal= ',')"
   ]
  },
  {
   "cell_type": "code",
   "execution_count": null,
   "metadata": {
    "scrolled": true
   },
   "outputs": [],
   "source": [
    "excluded_dates = [pd.Period(value='2019-01', freq='M'), pd.Period(value='2018-10', freq='M')]\n",
    "keys = ['TB_actual', 'GOSB_NUMBER', 'ccy_code', 'type_of_deposit']\n",
    "\n",
    "for key, group in data.groupby(by=keys):    \n",
    "    group.drop(keys, axis=1, inplace=True)        \n",
    "    group = group[['ReportDate', 'BalanceRur']].set_index('ReportDate').sort_index().squeeze().asfreq('D')    \n",
    "    #group = group[:'2019-06-24'] \n",
    "    forecast = op_fc.avg_operfacted_forecast(group, 3, excluded_dates)\n",
    "    break"
   ]
  },
  {
   "cell_type": "code",
   "execution_count": null,
   "metadata": {},
   "outputs": [],
   "source": [
    "forecast"
   ]
  },
  {
   "cell_type": "code",
   "execution_count": null,
   "metadata": {},
   "outputs": [],
   "source": []
  }
 ],
 "metadata": {
  "kernelspec": {
   "display_name": "Python 3",
   "language": "python",
   "name": "python3"
  },
  "language_info": {
   "codemirror_mode": {
    "name": "ipython",
    "version": 3
   },
   "file_extension": ".py",
   "mimetype": "text/x-python",
   "name": "python",
   "nbconvert_exporter": "python",
   "pygments_lexer": "ipython3",
   "version": "3.7.3"
  }
 },
 "nbformat": 4,
 "nbformat_minor": 4
}
