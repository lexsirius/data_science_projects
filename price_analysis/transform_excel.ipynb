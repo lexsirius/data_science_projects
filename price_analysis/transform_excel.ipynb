{
 "cells": [
  {
   "cell_type": "code",
   "execution_count": null,
   "metadata": {},
   "outputs": [],
   "source": [
    "import warnings\n",
    "warnings.filterwarnings('ignore')\n",
    "\n",
    "import pandas as pd\n",
    "import numpy as np\n",
    "import datetime\n",
    "\n",
    "import locale\n",
    "locale.setlocale(locale.LC_ALL, 'ru_RU.UTF-8')"
   ]
  },
  {
   "cell_type": "code",
   "execution_count": null,
   "metadata": {},
   "outputs": [],
   "source": [
    "sale_prices = pd.read_excel('Анализ цен Федору.xlsx', sheet_name='рентаб-ть цена продажи')\n",
    "sale_prices.head()"
   ]
  },
  {
   "cell_type": "code",
   "execution_count": null,
   "metadata": {},
   "outputs": [],
   "source": [
    "categories = sale_prices.iloc[5:16,0].to_frame('category')\n",
    "categories"
   ]
  },
  {
   "cell_type": "code",
   "execution_count": null,
   "metadata": {},
   "outputs": [],
   "source": [
    "sale_prices = sale_prices.iloc[1:, 1:]\n",
    "sale_prices.head()"
   ]
  },
  {
   "cell_type": "code",
   "execution_count": null,
   "metadata": {},
   "outputs": [],
   "source": [
    "def str_to_period(input: str) -> pd.Period:\n",
    "    months = {'Май': 'мая'}\n",
    "    try:\n",
    "        input_lst = input.split(sep=' ')[:-1]\n",
    "        input_lst[0] = input_lst[0][:3]\n",
    "        input_lst[0] = months.get(input_lst[0], input_lst[0])\n",
    "        input = ' '.join(input_lst)\n",
    "        dt = datetime.datetime.strptime(input, '%b %Y')\n",
    "        return pd.Timestamp(dt).to_period('M')\n",
    "    except Exception as e:\n",
    "        print(e)\n",
    "        breakpoint()"
   ]
  },
  {
   "cell_type": "code",
   "execution_count": null,
   "metadata": {},
   "outputs": [],
   "source": [
    "t = sale_prices.copy()\n",
    "columns = ['count', 'income', 'payability', 'gross_margin', 'total']\n",
    "results = []\n",
    "while (t.shape[1] > 0):\n",
    "    dt = str_to_period(t.iloc[0, 0])\n",
    "    batch = t.iloc[2:,:5]\n",
    "    batch.columns = columns\n",
    "    batch['report_dt'] = dt\n",
    "    batch = categories.join(batch)\n",
    "    result = batch.dropna()\n",
    "    results += result.to_dict('r')\n",
    "    t.drop(columns=t.columns[:5], inplace=True)    "
   ]
  },
  {
   "cell_type": "code",
   "execution_count": null,
   "metadata": {},
   "outputs": [],
   "source": [
    "sale_prices = pd.DataFrame(results)\n",
    "sale_prices"
   ]
  },
  {
   "cell_type": "code",
   "execution_count": null,
   "metadata": {},
   "outputs": [],
   "source": [
    "def series_to_df_offer_id_and_date(nomenclature: pd.Series) -> pd.DataFrame:\n",
    "    tmp = nomenclature.str.split(expand=True)\n",
    "    tmp.iloc[:, -2] = pd.to_datetime(tmp.iloc[:, -2] + ' ' + tmp.iloc[:, -1])\n",
    "    tmp = tmp.iloc[:, [-4, -2]]\n",
    "    tmp.columns = ['offer_id', 'report_dt']\n",
    "    return tmp"
   ]
  },
  {
   "cell_type": "code",
   "execution_count": null,
   "metadata": {},
   "outputs": [],
   "source": [
    "def insert_and_remove_columns_dt(dt, tmp: pd.DataFrame) -> pd.DataFrame:\n",
    "    dt_copy = dt.copy()\n",
    "    dt_copy['offer_id'] = tmp.offer_id\n",
    "    dt_copy['report_dt'] = tmp.report_dt\n",
    "    dt_copy = dt_copy.drop(columns=['nomenclature'])\n",
    "    return dt_copy"
   ]
  },
  {
   "cell_type": "code",
   "execution_count": null,
   "metadata": {},
   "outputs": [],
   "source": [
    "def edit_lifting_dt(dt: pd.DataFrame) -> pd.DataFrame:\n",
    "    dt_copy = dt.iloc[8:, [0, 1, 3]]\n",
    "    dt_copy.columns = ['category', 'nomenclature', 'count']\n",
    "    tmp = series_to_df_offer_id_and_date(dt_copy.nomenclature)\n",
    "    dt_copy = insert_and_remove_columns_dt(dt_copy, tmp)\n",
    "    return dt_copy"
   ]
  },
  {
   "cell_type": "code",
   "execution_count": null,
   "metadata": {},
   "outputs": [],
   "source": [
    "lifting_price = pd.read_excel('Анализ цен Федору.xlsx', sheet_name='отмена (ЦЕНА)')\n",
    "lifting_price.head(15)"
   ]
  },
  {
   "cell_type": "code",
   "execution_count": null,
   "metadata": {},
   "outputs": [],
   "source": [
    "lifting_price = edit_lifting_dt(lifting_price)\n",
    "lifting_price.head()"
   ]
  },
  {
   "cell_type": "code",
   "execution_count": null,
   "metadata": {},
   "outputs": [],
   "source": [
    "lifting_deficit = pd.read_excel('Анализ цен Федору.xlsx', sheet_name='отмена (ДЕФИЦИТ)')\n",
    "lifting_deficit.head(15)"
   ]
  },
  {
   "cell_type": "code",
   "execution_count": null,
   "metadata": {},
   "outputs": [],
   "source": [
    "lifting_deficit = edit_lifting_dt(lifting_deficit)\n",
    "lifting_deficit.head()"
   ]
  },
  {
   "cell_type": "code",
   "execution_count": null,
   "metadata": {},
   "outputs": [],
   "source": [
    "product_movement = pd.read_excel('Анализ цен Федору.xlsx', sheet_name='Движение товара')\n",
    "product_movement.head()"
   ]
  },
  {
   "cell_type": "code",
   "execution_count": null,
   "metadata": {},
   "outputs": [],
   "source": [
    "product_movement.columns = ['category',\n",
    "                'nomenclature',\n",
    "                'opening_balance',\n",
    "                'inflow',\n",
    "                'consumption',\n",
    "                'final_balance']\n",
    "product_movement = product_movement.dropna(subset=['category'])\n",
    "product_movement.head()"
   ]
  },
  {
   "cell_type": "code",
   "execution_count": null,
   "metadata": {},
   "outputs": [],
   "source": [
    "full_warehouse = pd.read_excel('Развернутые данные по гайке DIN934.xlsx', sheet_name='движение товара')"
   ]
  },
  {
   "cell_type": "code",
   "execution_count": null,
   "metadata": {},
   "outputs": [],
   "source": [
    "full_warehouse.head(10)"
   ]
  },
  {
   "cell_type": "code",
   "execution_count": null,
   "metadata": {},
   "outputs": [],
   "source": [
    "head_table = full_warehouse.iloc[[6,7],:]\n",
    "full_warehouse.drop(columns=full_warehouse.columns[[1, 2, 3, 5]], index=range(10), inplace=True)\n",
    "full_warehouse.drop(index=full_warehouse.index[-1], inplace=True)"
   ]
  },
  {
   "cell_type": "code",
   "execution_count": null,
   "metadata": {},
   "outputs": [],
   "source": [
    "categories = product_movement.category.unique()\n",
    "categories"
   ]
  },
  {
   "cell_type": "code",
   "execution_count": null,
   "metadata": {},
   "outputs": [],
   "source": [
    "full_warehouse.index -= 10"
   ]
  },
  {
   "cell_type": "code",
   "execution_count": null,
   "metadata": {},
   "outputs": [],
   "source": [
    "start_index = 0\n",
    "full_warehouse['category'] = np.nan\n",
    "category = ''\n",
    "drop_indexes = []\n",
    "for i in range(full_warehouse.shape[0]):\n",
    "    row = full_warehouse.iloc[i,:]\n",
    "    if row[0] in categories:\n",
    "        full_warehouse.category[start_index: i] = category\n",
    "        drop_indexes.append(start_index)\n",
    "        category = row[0]\n",
    "        start_index = i\n",
    "\n",
    "drop_indexes.append(start_index)\n",
    "full_warehouse.category[start_index:] = category\n",
    "\n",
    "full_warehouse.drop(index=drop_indexes, inplace=True)"
   ]
  },
  {
   "cell_type": "code",
   "execution_count": null,
   "metadata": {},
   "outputs": [],
   "source": [
    "t = full_warehouse[full_warehouse.columns[0]]\n",
    "result = []\n",
    "for s in t:\n",
    "    row = []\n",
    "    s = s.split(sep=' ')\n",
    "    result.append([' '.join(s[:-4]), s[-4], pd.to_datetime(s[-2] + ' ' + s[-1])])\n",
    "    \n",
    "split_nomeclature = pd.DataFrame(result)"
   ]
  },
  {
   "cell_type": "code",
   "execution_count": null,
   "metadata": {},
   "outputs": [],
   "source": [
    "full_warehouse.index = range(full_warehouse.shape[0])\n",
    "full_warehouse.drop(columns=full_warehouse.columns[0], inplace=True)\n",
    "full_warehouse = full_warehouse.join(split_nomeclature)\n",
    "full_warehouse.columns = ['opening_balance', 'income', 'consumption', 'final_balance', 'mean_price', 'prime_cost', 'category', 'nomenclature', 'doc_id', 'report_dttm']\n",
    "full_warehouse.head()"
   ]
  },
  {
   "cell_type": "code",
   "execution_count": null,
   "metadata": {},
   "outputs": [],
   "source": []
  },
  {
   "cell_type": "code",
   "execution_count": null,
   "metadata": {},
   "outputs": [],
   "source": [
    "t = {'sales': sale_prices, \n",
    "     'warehouse': product_movement, \n",
    "     'cancels': lifting_price,\n",
    "     'deficit': lifting_deficit,\n",
    "     'full_warehouse': full_warehouse}"
   ]
  },
  {
   "cell_type": "code",
   "execution_count": null,
   "metadata": {},
   "outputs": [],
   "source": [
    "import pickle"
   ]
  },
  {
   "cell_type": "code",
   "execution_count": null,
   "metadata": {},
   "outputs": [],
   "source": [
    "with open('df_dump.dat', 'bw') as file:\n",
    "    pickle.dump(t, file, protocol=pickle.HIGHEST_PROTOCOL)"
   ]
  }
 ],
 "metadata": {
  "kernelspec": {
   "display_name": "Python 3",
   "language": "python",
   "name": "python3"
  },
  "language_info": {
   "codemirror_mode": {
    "name": "ipython",
    "version": 3
   },
   "file_extension": ".py",
   "mimetype": "text/x-python",
   "name": "python",
   "nbconvert_exporter": "python",
   "pygments_lexer": "ipython3",
   "version": "3.7.3"
  }
 },
 "nbformat": 4,
 "nbformat_minor": 4
}
