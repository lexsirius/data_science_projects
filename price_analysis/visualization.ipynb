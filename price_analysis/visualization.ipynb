{
 "cells": [
  {
   "cell_type": "code",
   "execution_count": null,
   "metadata": {},
   "outputs": [],
   "source": [
    "import warnings\n",
    "warnings.filterwarnings('ignore')\n",
    "\n",
    "import pickle\n",
    "import pandas as pd\n",
    "import numpy as np\n",
    "\n",
    "%matplotlib inline\n",
    "import matplotlib.pyplot as plt"
   ]
  },
  {
   "cell_type": "code",
   "execution_count": null,
   "metadata": {},
   "outputs": [],
   "source": [
    "with open('df_dump.dat', 'br') as file:\n",
    "    a = pickle.load(file)\n",
    "\n",
    "a['warehouse'].rename(columns={'offer_id': 'doc_id', 'report_dt': 'report_dttm', 'inflow': 'income'}, inplace=True)\n",
    "a['cancels'].rename(columns={'offer_id': 'doc_id', 'report_dt': 'report_dttm'}, inplace=True)\n",
    "a['deficit'].rename(columns={'offer_id': 'doc_id', 'report_dt': 'report_dttm'}, inplace=True)"
   ]
  },
  {
   "cell_type": "code",
   "execution_count": null,
   "metadata": {},
   "outputs": [],
   "source": [
    "a.keys()"
   ]
  },
  {
   "cell_type": "code",
   "execution_count": null,
   "metadata": {},
   "outputs": [],
   "source": [
    "a['full_warehouse']['consumption'] = -a['full_warehouse']['consumption'].astype('float64')\n",
    "a['full_warehouse']['income'] = a['full_warehouse']['income'].astype('float64')\n",
    "a['full_warehouse']"
   ]
  },
  {
   "cell_type": "code",
   "execution_count": null,
   "metadata": {},
   "outputs": [],
   "source": [
    "pd.concat([a['cancels'].rename(columns={'count': 'cancels'}),\n",
    "           a['deficit'].rename(columns={'count': 'deficit'})])"
   ]
  },
  {
   "cell_type": "code",
   "execution_count": null,
   "metadata": {},
   "outputs": [],
   "source": []
  },
  {
   "cell_type": "code",
   "execution_count": null,
   "metadata": {},
   "outputs": [],
   "source": []
  },
  {
   "cell_type": "code",
   "execution_count": null,
   "metadata": {},
   "outputs": [],
   "source": [
    "a['full_warehouse'] \\\n",
    "    .groupby(by='category', as_index=False) \\\n",
    "    .agg({'report_dttm': 'count'}) \\\n",
    "    .rename({'report_dttm' : 'operation_count'}, axis=1) \\\n",
    "    .sort_values(by='operation_count', ascending=False)"
   ]
  },
  {
   "cell_type": "code",
   "execution_count": null,
   "metadata": {},
   "outputs": [],
   "source": [
    "category = a['full_warehouse'].category.unique()[3]\n",
    "category"
   ]
  },
  {
   "cell_type": "code",
   "execution_count": null,
   "metadata": {},
   "outputs": [],
   "source": [
    "nomenclature = a['full_warehouse'].nomenclature.unique().tolist()\n",
    "nomenclature"
   ]
  },
  {
   "cell_type": "code",
   "execution_count": null,
   "metadata": {},
   "outputs": [],
   "source": [
    "journal = []"
   ]
  },
  {
   "cell_type": "code",
   "execution_count": null,
   "metadata": {},
   "outputs": [],
   "source": [
    "journal += a['full_warehouse'].query('nomenclature == @nomenclature[0]')[['income', 'category', 'doc_id', 'report_dttm', 'nomenclature']] \\\n",
    "                   .rename({'nomenclature': 'metric', 'income': 'value'}, axis=1) \\\n",
    "                   .to_dict('r')"
   ]
  },
  {
   "cell_type": "code",
   "execution_count": null,
   "metadata": {},
   "outputs": [],
   "source": [
    "journal += a['full_warehouse'].query('nomenclature == @nomenclature[1]')[['consumption', 'category', 'doc_id', 'report_dttm', 'nomenclature']] \\\n",
    "                   .rename({'nomenclature': 'metric', 'consumption': 'value'}, axis=1) \\\n",
    "                   .to_dict('r')"
   ]
  },
  {
   "cell_type": "code",
   "execution_count": null,
   "metadata": {},
   "outputs": [],
   "source": [
    "journal += a['full_warehouse'].query('nomenclature == @nomenclature[2]')[['consumption', 'category', 'doc_id', 'report_dttm', 'nomenclature']] \\\n",
    "                   .rename({'nomenclature': 'metric', 'consumption': 'value'}, axis=1) \\\n",
    "                   .to_dict('r')"
   ]
  },
  {
   "cell_type": "code",
   "execution_count": null,
   "metadata": {},
   "outputs": [],
   "source": [
    "journal += a['full_warehouse'].query('nomenclature == @nomenclature[3]')[['consumption', 'category', 'doc_id', 'report_dttm', 'nomenclature']] \\\n",
    "                   .rename({'nomenclature': 'metric', 'consumption': 'value'}, axis=1) \\\n",
    "                   .to_dict('r')"
   ]
  },
  {
   "cell_type": "code",
   "execution_count": null,
   "metadata": {},
   "outputs": [],
   "source": [
    "journal += a['full_warehouse'].query('nomenclature == @nomenclature[4]')[['income', 'category', 'doc_id', 'report_dttm', 'nomenclature']] \\\n",
    "                   .rename({'nomenclature': 'metric', 'income': 'value'}, axis=1) \\\n",
    "                   .to_dict('r')"
   ]
  },
  {
   "cell_type": "code",
   "execution_count": null,
   "metadata": {},
   "outputs": [],
   "source": [
    "journal += a['full_warehouse'].query('nomenclature == @nomenclature[5]')[['consumption', 'category', 'doc_id', 'report_dttm', 'nomenclature']] \\\n",
    "                   .rename({'nomenclature': 'metric', 'consumption': 'value'}, axis=1) \\\n",
    "                   .to_dict('r')"
   ]
  },
  {
   "cell_type": "code",
   "execution_count": null,
   "metadata": {},
   "outputs": [],
   "source": [
    "journal += a['full_warehouse'].query('nomenclature == @nomenclature[6]')[['income', 'category', 'doc_id', 'report_dttm', 'nomenclature']] \\\n",
    "                   .rename({'nomenclature': 'metric', 'income': 'value'}, axis=1) \\\n",
    "                   .dropna() \\\n",
    "                   .to_dict('r')"
   ]
  },
  {
   "cell_type": "code",
   "execution_count": null,
   "metadata": {},
   "outputs": [],
   "source": [
    "journal += a['full_warehouse'].query('nomenclature == @nomenclature[6]')[['consumption', 'category', 'doc_id', 'report_dttm', 'nomenclature']] \\\n",
    "                   .rename({'nomenclature': 'metric', 'consumption': 'value'}, axis=1) \\\n",
    "                   .dropna() \\\n",
    "                   .to_dict('r')"
   ]
  },
  {
   "cell_type": "code",
   "execution_count": null,
   "metadata": {},
   "outputs": [],
   "source": [
    "journal += a['full_warehouse'].query('nomenclature == @nomenclature[7]')[['income', 'category', 'doc_id', 'report_dttm', 'nomenclature']] \\\n",
    "                   .rename({'nomenclature': 'metric', 'income': 'value'}, axis=1) \\\n",
    "                   .to_dict('r')"
   ]
  },
  {
   "cell_type": "code",
   "execution_count": null,
   "metadata": {},
   "outputs": [],
   "source": [
    "a['cancels']['count'] = a['cancels']['count'].astype('float64')\n",
    "journal += a['cancels'].assign(metric='Отказ клиента').rename({'count': 'value'}, axis=1).to_dict('r')"
   ]
  },
  {
   "cell_type": "code",
   "execution_count": null,
   "metadata": {},
   "outputs": [],
   "source": [
    "a['deficit']['count'] = a['deficit']['count'].astype('float64')\n",
    "journal += a['deficit'].assign(metric='Дефицит товара').rename({'count': 'value'}, axis=1).to_dict('r')"
   ]
  },
  {
   "cell_type": "code",
   "execution_count": null,
   "metadata": {},
   "outputs": [],
   "source": [
    "pd.DataFrame(journal).columns.tolist()"
   ]
  },
  {
   "cell_type": "code",
   "execution_count": null,
   "metadata": {},
   "outputs": [],
   "source": [
    "metric_columns = ['category', 'doc_id', 'metric']\n",
    "t = pd.DataFrame(journal).set_index('report_dttm') \\\n",
    "                     .groupby([pd.Grouper(freq='1M'), 'category', 'metric']) \\\n",
    "                     .sum() \\\n",
    "                     .unstack() \\\n",
    "                     .reset_index() \n",
    "t"
   ]
  },
  {
   "cell_type": "code",
   "execution_count": null,
   "metadata": {},
   "outputs": [],
   "source": [
    "for key, group in t.groupby('category'):\n",
    "    group.drop('category', axis=1).set_index('report_dttm').plot(kind='bar', stacked=True, figsize=(25, 10))\n",
    "    plt.tight_layout()"
   ]
  }
 ],
 "metadata": {
  "kernelspec": {
   "display_name": "Python 3",
   "language": "python",
   "name": "python3"
  },
  "language_info": {
   "codemirror_mode": {
    "name": "ipython",
    "version": 3
   },
   "file_extension": ".py",
   "mimetype": "text/x-python",
   "name": "python",
   "nbconvert_exporter": "python",
   "pygments_lexer": "ipython3",
   "version": "3.7.3"
  }
 },
 "nbformat": 4,
 "nbformat_minor": 4
}
