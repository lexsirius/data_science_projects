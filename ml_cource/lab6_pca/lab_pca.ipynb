{
 "cells": [
  {
   "cell_type": "markdown",
   "metadata": {},
   "source": [
    "# Метод главных компонент"
   ]
  },
  {
   "cell_type": "markdown",
   "metadata": {},
   "source": [
    "### Алгоритм PCA\n",
    "\n",
    "Дана матрица данных $D$ и коэффициент $\\alpha$:\n",
    "1. вычисляем среднее значение $\\mu = \\frac{1}{n} \\sum \\limits_{i=1}^{n} x_i$;\n",
    "2. центруем матрицу данных $Z = D - 1 \\cdot \\mu^T$;\n",
    "3. вычисляем матрицу ковариаций $K = \\frac{1}{n} (Z^T Z)$;\n",
    "4. вычисляем собственные значения $(\\lambda_1, \\lambda_2, \\ldots, \\lambda_d)$;\n",
    "5. вычисляем собственные векторы $U = (u_1 u_2 \\ldots u_d)$;\n",
    "6. вычисляем долю общей дисперсии $f(r) = \\frac{\\sum_{i=1}^{r} \\lambda_i} {\\sum_{i=1}^{n} \\lambda_i}$;\n",
    "7. выбираем наименьший $r$ так, чтобы $f(r) \\geq \\alpha$;\n",
    "8. выбираем $r$ первых векторов $U = (u_1 u_2 \\ldots u_r)$;\n",
    "9. уменьшаем признаковое пространство: $A = \\{ a_i \\: | \\: a_i = U_r^T x_i, \\: для \\: i = 1, \\ldots, n \\} $\n",
    "\n",
    "Реализуйте алгоритм для первых двух главных компонент. Найдите $\\lambda_1$, $\\lambda_2$ и $u_1$, $u_2$. Спроецируйте данные на плоскость образуемую этими векторами, визуализируйте полученные результаты c метками классов. Сравните реузльтаты с методом PCA из библиотеки sklearn.decomposition.\n",
    "\n",
    "В качестве данных возьмите изображения с рукописными цифрами."
   ]
  },
  {
   "cell_type": "code",
   "execution_count": 58,
   "metadata": {},
   "outputs": [],
   "source": [
    "import numpy as np\n",
    "import matplotlib.pyplot as plt\n",
    "from sklearn.datasets import load_iris\n",
    "%matplotlib inline\n",
    "\n",
    "data = load_iris()\n",
    "x, y = data['data'], data['target']\n",
    "\n",
    "# Коэффициент альфа\n",
    "coef_a = 0.95"
   ]
  },
  {
   "cell_type": "code",
   "execution_count": 23,
   "metadata": {},
   "outputs": [
    {
     "name": "stdout",
     "output_type": "stream",
     "text": [
      "sample x:\n",
      "[[5.1 3.5 1.4 0.2]\n",
      " [4.9 3.  1.4 0.2]\n",
      " [4.7 3.2 1.3 0.2]\n",
      " [4.6 3.1 1.5 0.2]\n",
      " [5.  3.6 1.4 0.2]]\n",
      "sample y: [0 0 0 0 0]\n"
     ]
    }
   ],
   "source": [
    "print(f'sample x:\\n{x[:5]}\\nsample y: {y[:5]}')"
   ]
  },
  {
   "cell_type": "markdown",
   "metadata": {},
   "source": [
    "1. вычисляем среднее значение $\\mu = \\frac{1}{n} \\sum \\limits_{i=1}^{n} x_i$;"
   ]
  },
  {
   "cell_type": "code",
   "execution_count": 24,
   "metadata": {},
   "outputs": [
    {
     "data": {
      "text/plain": [
       "array([5.84333333, 3.05733333, 3.758     , 1.19933333])"
      ]
     },
     "execution_count": 24,
     "metadata": {},
     "output_type": "execute_result"
    }
   ],
   "source": [
    "n = x.shape[0]\n",
    "m = np.array(list(map(lambda x: 1/n * np.sum(x), x.T)))\n",
    "m"
   ]
  },
  {
   "cell_type": "code",
   "execution_count": 25,
   "metadata": {},
   "outputs": [
    {
     "data": {
      "text/plain": [
       "array([5.84333333, 3.05733333, 3.758     , 1.19933333])"
      ]
     },
     "execution_count": 25,
     "metadata": {},
     "output_type": "execute_result"
    }
   ],
   "source": [
    "np.mean(x, axis=0)"
   ]
  },
  {
   "cell_type": "markdown",
   "metadata": {},
   "source": [
    "2. центруем матрицу данных $Z = D - 1 \\cdot \\mu^T$;"
   ]
  },
  {
   "cell_type": "code",
   "execution_count": 26,
   "metadata": {},
   "outputs": [
    {
     "data": {
      "text/plain": [
       "array([[-0.74333333,  0.44266667, -2.358     , -0.99933333],\n",
       "       [-0.94333333, -0.05733333, -2.358     , -0.99933333],\n",
       "       [-1.14333333,  0.14266667, -2.458     , -0.99933333],\n",
       "       [-1.24333333,  0.04266667, -2.258     , -0.99933333],\n",
       "       [-0.84333333,  0.54266667, -2.358     , -0.99933333]])"
      ]
     },
     "execution_count": 26,
     "metadata": {},
     "output_type": "execute_result"
    }
   ],
   "source": [
    "Z = x - m\n",
    "Z[:5]"
   ]
  },
  {
   "cell_type": "markdown",
   "metadata": {},
   "source": [
    "3. вычисляем матрицу ковариаций $K = \\frac{1}{n} (Z^T Z)$;"
   ]
  },
  {
   "cell_type": "code",
   "execution_count": 30,
   "metadata": {},
   "outputs": [
    {
     "data": {
      "text/plain": [
       "array([[ 0.68112222, -0.04215111,  1.26582   ,  0.51282889],\n",
       "       [-0.04215111,  0.18871289, -0.32745867, -0.12082844],\n",
       "       [ 1.26582   , -0.32745867,  3.09550267,  1.286972  ],\n",
       "       [ 0.51282889, -0.12082844,  1.286972  ,  0.57713289]])"
      ]
     },
     "execution_count": 30,
     "metadata": {},
     "output_type": "execute_result"
    }
   ],
   "source": [
    "K = 1/n * np.dot(Z.T, Z)\n",
    "K"
   ]
  },
  {
   "cell_type": "code",
   "execution_count": 28,
   "metadata": {},
   "outputs": [
    {
     "data": {
      "text/plain": [
       "array([[ 0.68569351, -0.042434  ,  1.27431544,  0.51627069],\n",
       "       [-0.042434  ,  0.18997942, -0.32965638, -0.12163937],\n",
       "       [ 1.27431544, -0.32965638,  3.11627785,  1.2956094 ],\n",
       "       [ 0.51627069, -0.12163937,  1.2956094 ,  0.58100626]])"
      ]
     },
     "execution_count": 28,
     "metadata": {},
     "output_type": "execute_result"
    }
   ],
   "source": [
    "np.cov(Z.T)"
   ]
  },
  {
   "cell_type": "markdown",
   "metadata": {},
   "source": [
    "4. вычисляем собственные значения $(\\lambda_1, \\lambda_2, \\ldots, \\lambda_d)$;\n",
    "5. вычисляем собственные векторы $U = (u_1 u_2 \\ldots u_d)$;"
   ]
  },
  {
   "cell_type": "code",
   "execution_count": 35,
   "metadata": {},
   "outputs": [
    {
     "data": {
      "text/plain": [
       "(array([4.20005343, 0.24105294, 0.0776881 , 0.02367619]),\n",
       " array([[ 0.36138659, -0.65658877, -0.58202985,  0.31548719],\n",
       "        [-0.08452251, -0.73016143,  0.59791083, -0.3197231 ],\n",
       "        [ 0.85667061,  0.17337266,  0.07623608, -0.47983899],\n",
       "        [ 0.3582892 ,  0.07548102,  0.54583143,  0.75365743]]))"
      ]
     },
     "execution_count": 35,
     "metadata": {},
     "output_type": "execute_result"
    }
   ],
   "source": [
    "lmbd, U = np.linalg.eig(K)\n",
    "lmbd, U"
   ]
  },
  {
   "cell_type": "markdown",
   "metadata": {},
   "source": [
    "6. вычисляем долю общей дисперсии $f(r) = \\frac{\\sum_{i=1}^{r} \\lambda_i} {\\sum_{i=1}^{n} \\lambda_i}$;"
   ]
  },
  {
   "cell_type": "code",
   "execution_count": 51,
   "metadata": {},
   "outputs": [
    {
     "data": {
      "text/plain": [
       "array([0.92461872, 0.97768521, 0.99478782, 1.        ])"
      ]
     },
     "execution_count": 51,
     "metadata": {},
     "output_type": "execute_result"
    }
   ],
   "source": [
    "# f_r = np.zeros(len(lmbd))\n",
    "# for r in range(len(lmbd)):\n",
    "#     f_r[r] = np.sum(lmbd[: r+1]) / np.sum(lmbd)\n",
    "# f_r"
   ]
  },
  {
   "cell_type": "code",
   "execution_count": 52,
   "metadata": {},
   "outputs": [
    {
     "data": {
      "text/plain": [
       "array([0.92461872, 0.97768521, 0.99478782, 1.        ])"
      ]
     },
     "execution_count": 52,
     "metadata": {},
     "output_type": "execute_result"
    }
   ],
   "source": [
    "f_r = np.array(list(\n",
    "        map(\n",
    "            lambda r: np.sum(lmbd[: r]) /\n",
    "                      np.sum(lmbd), \n",
    "            np.arange(1, len(lmbd) + 1)\n",
    "            )\n",
    "        ))\n",
    "f_r\n",
    "# имеет ли смысл вычислять значение для r = n? очевидно, что оно равно 1"
   ]
  },
  {
   "cell_type": "markdown",
   "metadata": {},
   "source": [
    "На основе полученных собственных значений ковариационной матрицы $K$ постройте график зависимости покрываемой дисперсии трансформированных данных от количества главных компонент."
   ]
  },
  {
   "cell_type": "code",
   "execution_count": 102,
   "metadata": {},
   "outputs": [
    {
     "data": {
      "image/png": "[encoded data removed]",
      "text/plain": [
       "<Figure size 432x288 with 1 Axes>"
      ]
     },
     "metadata": {
      "needs_background": "light"
     },
     "output_type": "display_data"
    }
   ],
   "source": [
    "plt.plot(np.arange(1, len(lmbd) + 1, dtype='int64'), f_r)\n",
    "plt.xticks(ticks=np.arange(1, len(lmbd) + 1, dtype='int64'))\n",
    "plt.grid()\n",
    "plt.xlabel('Количество главных компонент')\n",
    "plt.ylabel('Доля общей дисперсии')\n",
    "plt.title('График зависимости покрываемой дисперсии трансформированных данных от количества главных компонент\\n')\n",
    "plt.show()"
   ]
  },
  {
   "cell_type": "markdown",
   "metadata": {},
   "source": [
    "7. выбираем наименьший $r$ так, чтобы $f(r) \\geq \\alpha$;"
   ]
  },
  {
   "cell_type": "code",
   "execution_count": 73,
   "metadata": {},
   "outputs": [],
   "source": [
    "r = np.where(f_r >= coef_a)[0][0] + 1"
   ]
  },
  {
   "cell_type": "markdown",
   "metadata": {},
   "source": [
    "8. выбираем $r$ первых векторов $U = (u_1 u_2 \\ldots u_r)$;"
   ]
  },
  {
   "cell_type": "code",
   "execution_count": 75,
   "metadata": {},
   "outputs": [
    {
     "data": {
      "text/plain": [
       "array([[ 0.36138659, -0.65658877],\n",
       "       [-0.08452251, -0.73016143],\n",
       "       [ 0.85667061,  0.17337266],\n",
       "       [ 0.3582892 ,  0.07548102]])"
      ]
     },
     "execution_count": 75,
     "metadata": {},
     "output_type": "execute_result"
    }
   ],
   "source": [
    "Ur = U[:, :r]\n",
    "Ur"
   ]
  },
  {
   "cell_type": "markdown",
   "metadata": {},
   "source": [
    "9. уменьшаем признаковое пространство: $A = \\{ a_i \\: | \\: a_i = U_r^T x_i, \\: для \\: i = 1, \\ldots, n \\} $"
   ]
  },
  {
   "cell_type": "code",
   "execution_count": 86,
   "metadata": {},
   "outputs": [
    {
     "data": {
      "text/plain": [
       "array([[ 2.81823951, -5.64634982],\n",
       "       [ 2.78822345, -5.14995135],\n",
       "       [ 2.61337456, -5.18200315],\n",
       "       [ 2.75702228, -5.0086536 ],\n",
       "       [ 2.7736486 , -5.65370709]])"
      ]
     },
     "execution_count": 86,
     "metadata": {},
     "output_type": "execute_result"
    }
   ],
   "source": [
    "# A = np.zeros((x.shape[0], r))\n",
    "# for i in range(x.shape[0]):\n",
    "#     A[i] = np.dot(Ur.T, x[i])\n",
    "\n",
    "# A[:5]"
   ]
  },
  {
   "cell_type": "code",
   "execution_count": 89,
   "metadata": {},
   "outputs": [
    {
     "data": {
      "text/plain": [
       "array([[ 2.81823951, -5.64634982],\n",
       "       [ 2.78822345, -5.14995135],\n",
       "       [ 2.61337456, -5.18200315],\n",
       "       [ 2.75702228, -5.0086536 ],\n",
       "       [ 2.7736486 , -5.65370709]])"
      ]
     },
     "execution_count": 89,
     "metadata": {},
     "output_type": "execute_result"
    }
   ],
   "source": [
    "A = np.dot(x, Ur)\n",
    "A[:5]"
   ]
  },
  {
   "cell_type": "code",
   "execution_count": 105,
   "metadata": {},
   "outputs": [
    {
     "data": {
      "image/png": "[encoded data removed]",
      "text/plain": [
       "<Figure size 432x288 with 1 Axes>"
      ]
     },
     "metadata": {
      "needs_background": "light"
     },
     "output_type": "display_data"
    }
   ],
   "source": [
    "plt.scatter(A[:,0], A[:,1], c=y)\n",
    "plt.title('Проекция данных на плоскость (u1, u2)')\n",
    "plt.show()"
   ]
  },
  {
   "cell_type": "markdown",
   "metadata": {},
   "source": [
    "Сравните реузльтаты с методом PCA из библиотеки sklearn.decomposition."
   ]
  },
  {
   "cell_type": "code",
   "execution_count": 122,
   "metadata": {
    "collapsed": true,
    "jupyter": {
     "outputs_hidden": true
    }
   },
   "outputs": [
    {
     "data": {
      "text/plain": [
       "array([[-2.68412563,  0.31939725],\n",
       "       [-2.71414169, -0.17700123],\n",
       "       [-2.88899057, -0.14494943],\n",
       "       [-2.74534286, -0.31829898],\n",
       "       [-2.72871654,  0.32675451],\n",
       "       [-2.28085963,  0.74133045],\n",
       "       [-2.82053775, -0.08946138],\n",
       "       [-2.62614497,  0.16338496],\n",
       "       [-2.88638273, -0.57831175],\n",
       "       [-2.6727558 , -0.11377425],\n",
       "       [-2.50694709,  0.6450689 ],\n",
       "       [-2.61275523,  0.01472994],\n",
       "       [-2.78610927, -0.235112  ],\n",
       "       [-3.22380374, -0.51139459],\n",
       "       [-2.64475039,  1.17876464],\n",
       "       [-2.38603903,  1.33806233],\n",
       "       [-2.62352788,  0.81067951],\n",
       "       [-2.64829671,  0.31184914],\n",
       "       [-2.19982032,  0.87283904],\n",
       "       [-2.5879864 ,  0.51356031],\n",
       "       [-2.31025622,  0.39134594],\n",
       "       [-2.54370523,  0.43299606],\n",
       "       [-3.21593942,  0.13346807],\n",
       "       [-2.30273318,  0.09870885],\n",
       "       [-2.35575405, -0.03728186],\n",
       "       [-2.50666891, -0.14601688],\n",
       "       [-2.46882007,  0.13095149],\n",
       "       [-2.56231991,  0.36771886],\n",
       "       [-2.63953472,  0.31203998],\n",
       "       [-2.63198939, -0.19696122],\n",
       "       [-2.58739848, -0.20431849],\n",
       "       [-2.4099325 ,  0.41092426],\n",
       "       [-2.64886233,  0.81336382],\n",
       "       [-2.59873675,  1.09314576],\n",
       "       [-2.63692688, -0.12132235],\n",
       "       [-2.86624165,  0.06936447],\n",
       "       [-2.62523805,  0.59937002],\n",
       "       [-2.80068412,  0.26864374],\n",
       "       [-2.98050204, -0.48795834],\n",
       "       [-2.59000631,  0.22904384],\n",
       "       [-2.77010243,  0.26352753],\n",
       "       [-2.84936871, -0.94096057],\n",
       "       [-2.99740655, -0.34192606],\n",
       "       [-2.40561449,  0.18887143],\n",
       "       [-2.20948924,  0.43666314],\n",
       "       [-2.71445143, -0.2502082 ],\n",
       "       [-2.53814826,  0.50377114],\n",
       "       [-2.83946217, -0.22794557],\n",
       "       [-2.54308575,  0.57941002],\n",
       "       [-2.70335978,  0.10770608],\n",
       "       [ 1.28482569,  0.68516047],\n",
       "       [ 0.93248853,  0.31833364],\n",
       "       [ 1.46430232,  0.50426282],\n",
       "       [ 0.18331772, -0.82795901],\n",
       "       [ 1.08810326,  0.07459068],\n",
       "       [ 0.64166908, -0.41824687],\n",
       "       [ 1.09506066,  0.28346827],\n",
       "       [-0.74912267, -1.00489096],\n",
       "       [ 1.04413183,  0.2283619 ],\n",
       "       [-0.0087454 , -0.72308191],\n",
       "       [-0.50784088, -1.26597119],\n",
       "       [ 0.51169856, -0.10398124],\n",
       "       [ 0.26497651, -0.55003646],\n",
       "       [ 0.98493451, -0.12481785],\n",
       "       [-0.17392537, -0.25485421],\n",
       "       [ 0.92786078,  0.46717949],\n",
       "       [ 0.66028376, -0.35296967],\n",
       "       [ 0.23610499, -0.33361077],\n",
       "       [ 0.94473373, -0.54314555],\n",
       "       [ 0.04522698, -0.58383438],\n",
       "       [ 1.11628318, -0.08461685],\n",
       "       [ 0.35788842, -0.06892503],\n",
       "       [ 1.29818388, -0.32778731],\n",
       "       [ 0.92172892, -0.18273779],\n",
       "       [ 0.71485333,  0.14905594],\n",
       "       [ 0.90017437,  0.32850447],\n",
       "       [ 1.33202444,  0.24444088],\n",
       "       [ 1.55780216,  0.26749545],\n",
       "       [ 0.81329065, -0.1633503 ],\n",
       "       [-0.30558378, -0.36826219],\n",
       "       [-0.06812649, -0.70517213],\n",
       "       [-0.18962247, -0.68028676],\n",
       "       [ 0.13642871, -0.31403244],\n",
       "       [ 1.38002644, -0.42095429],\n",
       "       [ 0.58800644, -0.48428742],\n",
       "       [ 0.80685831,  0.19418231],\n",
       "       [ 1.22069088,  0.40761959],\n",
       "       [ 0.81509524, -0.37203706],\n",
       "       [ 0.24595768, -0.2685244 ],\n",
       "       [ 0.16641322, -0.68192672],\n",
       "       [ 0.46480029, -0.67071154],\n",
       "       [ 0.8908152 , -0.03446444],\n",
       "       [ 0.23054802, -0.40438585],\n",
       "       [-0.70453176, -1.01224823],\n",
       "       [ 0.35698149, -0.50491009],\n",
       "       [ 0.33193448, -0.21265468],\n",
       "       [ 0.37621565, -0.29321893],\n",
       "       [ 0.64257601,  0.01773819],\n",
       "       [-0.90646986, -0.75609337],\n",
       "       [ 0.29900084, -0.34889781],\n",
       "       [ 2.53119273, -0.00984911],\n",
       "       [ 1.41523588, -0.57491635],\n",
       "       [ 2.61667602,  0.34390315],\n",
       "       [ 1.97153105, -0.1797279 ],\n",
       "       [ 2.35000592, -0.04026095],\n",
       "       [ 3.39703874,  0.55083667],\n",
       "       [ 0.52123224, -1.19275873],\n",
       "       [ 2.93258707,  0.3555    ],\n",
       "       [ 2.32122882, -0.2438315 ],\n",
       "       [ 2.91675097,  0.78279195],\n",
       "       [ 1.66177415,  0.24222841],\n",
       "       [ 1.80340195, -0.21563762],\n",
       "       [ 2.1655918 ,  0.21627559],\n",
       "       [ 1.34616358, -0.77681835],\n",
       "       [ 1.58592822, -0.53964071],\n",
       "       [ 1.90445637,  0.11925069],\n",
       "       [ 1.94968906,  0.04194326],\n",
       "       [ 3.48705536,  1.17573933],\n",
       "       [ 3.79564542,  0.25732297],\n",
       "       [ 1.30079171, -0.76114964],\n",
       "       [ 2.42781791,  0.37819601],\n",
       "       [ 1.19900111, -0.60609153],\n",
       "       [ 3.49992004,  0.4606741 ],\n",
       "       [ 1.38876613, -0.20439933],\n",
       "       [ 2.2754305 ,  0.33499061],\n",
       "       [ 2.61409047,  0.56090136],\n",
       "       [ 1.25850816, -0.17970479],\n",
       "       [ 1.29113206, -0.11666865],\n",
       "       [ 2.12360872, -0.20972948],\n",
       "       [ 2.38800302,  0.4646398 ],\n",
       "       [ 2.84167278,  0.37526917],\n",
       "       [ 3.23067366,  1.37416509],\n",
       "       [ 2.15943764, -0.21727758],\n",
       "       [ 1.44416124, -0.14341341],\n",
       "       [ 1.78129481, -0.49990168],\n",
       "       [ 3.07649993,  0.68808568],\n",
       "       [ 2.14424331,  0.1400642 ],\n",
       "       [ 1.90509815,  0.04930053],\n",
       "       [ 1.16932634, -0.16499026],\n",
       "       [ 2.10761114,  0.37228787],\n",
       "       [ 2.31415471,  0.18365128],\n",
       "       [ 1.9222678 ,  0.40920347],\n",
       "       [ 1.41523588, -0.57491635],\n",
       "       [ 2.56301338,  0.2778626 ],\n",
       "       [ 2.41874618,  0.3047982 ],\n",
       "       [ 1.94410979,  0.1875323 ],\n",
       "       [ 1.52716661, -0.37531698],\n",
       "       [ 1.76434572,  0.07885885],\n",
       "       [ 1.90094161,  0.11662796],\n",
       "       [ 1.39018886, -0.28266094]])"
      ]
     },
     "execution_count": 122,
     "metadata": {},
     "output_type": "execute_result"
    }
   ],
   "source": [
    "from sklearn.decomposition import PCA\n",
    "pca = PCA(n_components = 2)\n",
    "XPCAreduced = pca.fit_transform(x)\n",
    "XPCAreduced"
   ]
  },
  {
   "cell_type": "code",
   "execution_count": 112,
   "metadata": {},
   "outputs": [
    {
     "data": {
      "image/png": "[encoded data removed]",
      "text/plain": [
       "<Figure size 432x288 with 1 Axes>"
      ]
     },
     "metadata": {
      "needs_background": "light"
     },
     "output_type": "display_data"
    }
   ],
   "source": [
    "plt.scatter(XPCAreduced[:,0], XPCAreduced[:,1], c=y)\n",
    "plt.title('Проекция данных на плоскость (u1, u2)')\n",
    "plt.show()"
   ]
  },
  {
   "cell_type": "code",
   "execution_count": 119,
   "metadata": {},
   "outputs": [
    {
     "name": "stdout",
     "output_type": "stream",
     "text": [
      "eigenvectors(count = 2):\n",
      "[[ 0.36138659 -0.65658877]\n",
      " [-0.08452251 -0.73016143]\n",
      " [ 0.85667061  0.17337266]\n",
      " [ 0.3582892   0.07548102]]\n",
      "\n",
      "eigenvectors pca from sklearn:\n",
      "[[ 0.36138659  0.65658877]\n",
      " [-0.08452251  0.73016143]\n",
      " [ 0.85667061 -0.17337266]\n",
      " [ 0.3582892  -0.07548102]]\n"
     ]
    }
   ],
   "source": [
    "print(f'eigenvectors(count = {r}):\\n{Ur}\\n\\neigenvectors pca from sklearn:\\n{pca.components_.T}')"
   ]
  },
  {
   "cell_type": "code",
   "execution_count": null,
   "metadata": {},
   "outputs": [],
   "source": []
  },
  {
   "cell_type": "markdown",
   "metadata": {},
   "source": [
    "### Алгоритм PCA в одном методе:"
   ]
  },
  {
   "cell_type": "code",
   "execution_count": 126,
   "metadata": {},
   "outputs": [],
   "source": [
    "def pca_(D: np.array, coef_a: float) -> np.array:\n",
    "    m = np.mean(D, axis=0)\n",
    "    Z = D - m\n",
    "    K = np.cov(Z.T)\n",
    "    lmbd, U = np.linalg.eig(K)\n",
    "    f_r = np.array(list(\n",
    "        map(\n",
    "            lambda r: np.sum(lmbd[: r]) /\n",
    "                      np.sum(lmbd), \n",
    "            np.arange(1, len(lmbd) + 1)\n",
    "            )\n",
    "        ))\n",
    "    r = np.where(f_r >= coef_a)[0][0] + 1\n",
    "    Ur = U[:, :r]\n",
    "    A = np.dot(x, Ur)\n",
    "    return A"
   ]
  },
  {
   "cell_type": "code",
   "execution_count": 130,
   "metadata": {},
   "outputs": [
    {
     "data": {
      "text/plain": [
       "<matplotlib.collections.PathCollection at 0x7f05e8d147f0>"
      ]
     },
     "execution_count": 130,
     "metadata": {},
     "output_type": "execute_result"
    },
    {
     "data": {
      "image/png": "[encoded data removed]",
      "text/plain": [
       "<Figure size 432x288 with 1 Axes>"
      ]
     },
     "metadata": {
      "needs_background": "light"
     },
     "output_type": "display_data"
    }
   ],
   "source": [
    "plt.scatter(pca_(x, coef_a)[:, 0], pca_(x, coef_a)[:, 1], c=y)"
   ]
  },
  {
   "cell_type": "markdown",
   "metadata": {},
   "source": [
    "# Интерпретация компонент\n",
    "## Корреляция с исходными признаками\n",
    "Главные компоненты являются линейными кобинациями исходных признаков. В этой связи необходимо оценить связь каждой компоненты с исходными признаками.\n",
    "\n",
    "Рассчет взаимосвязи будем проводить с помощью корреляции Пирсона:\n",
    "\n",
    "\\begin{equation}\n",
    "r_{jk} = \\frac{\\sum_{i=1}^n (x_{ij} - \\bar{x}_j) (x_{ik}' - \\bar{x}_k')}{\\sqrt{\\sum_{i=1}^n (x_{ij} - \\bar{x}_j)^2 \\sum_{i=1}^n (x_{ik}' - \\bar{x}_k')^2}}\n",
    "\\end{equation}\n",
    "\n",
    "где\n",
    "$\\bar{x}_j$ - среднее значение $j$-го признака,\n",
    "$\\bar{x}_k'$ - среднее значение проекции на $k$-ю главную компоненту,\n",
    "$n$ - количество объектов.\n",
    "\n",
    "Отметим, что корреляция Пирсона изменяется от $-1$ до $+1$. Она равна $0$ в случае, когда величины независимы, и $\\pm 1$, если они линейно зависимы.\n",
    "\n",
    "Определите по коэффициентам корреляции, какие признаки в какую компоненту вошли."
   ]
  },
  {
   "cell_type": "code",
   "execution_count": 136,
   "metadata": {},
   "outputs": [
    {
     "name": "stdout",
     "output_type": "stream",
     "text": [
      "x sample\n",
      "[[5.1 3.5 1.4 0.2]\n",
      " [4.9 3.  1.4 0.2]\n",
      " [4.7 3.2 1.3 0.2]\n",
      " [4.6 3.1 1.5 0.2]\n",
      " [5.  3.6 1.4 0.2]]\n",
      "\n",
      "A sample\n",
      "[[ 2.81823951 -5.64634982]\n",
      " [ 2.78822345 -5.14995135]\n",
      " [ 2.61337456 -5.18200315]\n",
      " [ 2.75702228 -5.0086536 ]\n",
      " [ 2.7736486  -5.65370709]]\n"
     ]
    }
   ],
   "source": [
    "print(f'x sample\\n{x[:5]}\\n\\nA sample\\n{A[:5]}')"
   ]
  },
  {
   "cell_type": "code",
   "execution_count": 139,
   "metadata": {
    "collapsed": true,
    "jupyter": {
     "outputs_hidden": true
    }
   },
   "outputs": [
    {
     "data": {
      "text/plain": [
       "array([[-2.68412563, -0.31939725],\n",
       "       [-2.71414169,  0.17700123],\n",
       "       [-2.88899057,  0.14494943],\n",
       "       [-2.74534286,  0.31829898],\n",
       "       [-2.72871654, -0.32675451],\n",
       "       [-2.28085963, -0.74133045],\n",
       "       [-2.82053775,  0.08946138],\n",
       "       [-2.62614497, -0.16338496],\n",
       "       [-2.88638273,  0.57831175],\n",
       "       [-2.6727558 ,  0.11377425],\n",
       "       [-2.50694709, -0.6450689 ],\n",
       "       [-2.61275523, -0.01472994],\n",
       "       [-2.78610927,  0.235112  ],\n",
       "       [-3.22380374,  0.51139459],\n",
       "       [-2.64475039, -1.17876464],\n",
       "       [-2.38603903, -1.33806233],\n",
       "       [-2.62352788, -0.81067951],\n",
       "       [-2.64829671, -0.31184914],\n",
       "       [-2.19982032, -0.87283904],\n",
       "       [-2.5879864 , -0.51356031],\n",
       "       [-2.31025622, -0.39134594],\n",
       "       [-2.54370523, -0.43299606],\n",
       "       [-3.21593942, -0.13346807],\n",
       "       [-2.30273318, -0.09870885],\n",
       "       [-2.35575405,  0.03728186],\n",
       "       [-2.50666891,  0.14601688],\n",
       "       [-2.46882007, -0.13095149],\n",
       "       [-2.56231991, -0.36771886],\n",
       "       [-2.63953472, -0.31203998],\n",
       "       [-2.63198939,  0.19696122],\n",
       "       [-2.58739848,  0.20431849],\n",
       "       [-2.4099325 , -0.41092426],\n",
       "       [-2.64886233, -0.81336382],\n",
       "       [-2.59873675, -1.09314576],\n",
       "       [-2.63692688,  0.12132235],\n",
       "       [-2.86624165, -0.06936447],\n",
       "       [-2.62523805, -0.59937002],\n",
       "       [-2.80068412, -0.26864374],\n",
       "       [-2.98050204,  0.48795834],\n",
       "       [-2.59000631, -0.22904384],\n",
       "       [-2.77010243, -0.26352753],\n",
       "       [-2.84936871,  0.94096057],\n",
       "       [-2.99740655,  0.34192606],\n",
       "       [-2.40561449, -0.18887143],\n",
       "       [-2.20948924, -0.43666314],\n",
       "       [-2.71445143,  0.2502082 ],\n",
       "       [-2.53814826, -0.50377114],\n",
       "       [-2.83946217,  0.22794557],\n",
       "       [-2.54308575, -0.57941002],\n",
       "       [-2.70335978, -0.10770608],\n",
       "       [ 1.28482569, -0.68516047],\n",
       "       [ 0.93248853, -0.31833364],\n",
       "       [ 1.46430232, -0.50426282],\n",
       "       [ 0.18331772,  0.82795901],\n",
       "       [ 1.08810326, -0.07459068],\n",
       "       [ 0.64166908,  0.41824687],\n",
       "       [ 1.09506066, -0.28346827],\n",
       "       [-0.74912267,  1.00489096],\n",
       "       [ 1.04413183, -0.2283619 ],\n",
       "       [-0.0087454 ,  0.72308191],\n",
       "       [-0.50784088,  1.26597119],\n",
       "       [ 0.51169856,  0.10398124],\n",
       "       [ 0.26497651,  0.55003646],\n",
       "       [ 0.98493451,  0.12481785],\n",
       "       [-0.17392537,  0.25485421],\n",
       "       [ 0.92786078, -0.46717949],\n",
       "       [ 0.66028376,  0.35296967],\n",
       "       [ 0.23610499,  0.33361077],\n",
       "       [ 0.94473373,  0.54314555],\n",
       "       [ 0.04522698,  0.58383438],\n",
       "       [ 1.11628318,  0.08461685],\n",
       "       [ 0.35788842,  0.06892503],\n",
       "       [ 1.29818388,  0.32778731],\n",
       "       [ 0.92172892,  0.18273779],\n",
       "       [ 0.71485333, -0.14905594],\n",
       "       [ 0.90017437, -0.32850447],\n",
       "       [ 1.33202444, -0.24444088],\n",
       "       [ 1.55780216, -0.26749545],\n",
       "       [ 0.81329065,  0.1633503 ],\n",
       "       [-0.30558378,  0.36826219],\n",
       "       [-0.06812649,  0.70517213],\n",
       "       [-0.18962247,  0.68028676],\n",
       "       [ 0.13642871,  0.31403244],\n",
       "       [ 1.38002644,  0.42095429],\n",
       "       [ 0.58800644,  0.48428742],\n",
       "       [ 0.80685831, -0.19418231],\n",
       "       [ 1.22069088, -0.40761959],\n",
       "       [ 0.81509524,  0.37203706],\n",
       "       [ 0.24595768,  0.2685244 ],\n",
       "       [ 0.16641322,  0.68192672],\n",
       "       [ 0.46480029,  0.67071154],\n",
       "       [ 0.8908152 ,  0.03446444],\n",
       "       [ 0.23054802,  0.40438585],\n",
       "       [-0.70453176,  1.01224823],\n",
       "       [ 0.35698149,  0.50491009],\n",
       "       [ 0.33193448,  0.21265468],\n",
       "       [ 0.37621565,  0.29321893],\n",
       "       [ 0.64257601, -0.01773819],\n",
       "       [-0.90646986,  0.75609337],\n",
       "       [ 0.29900084,  0.34889781],\n",
       "       [ 2.53119273,  0.00984911],\n",
       "       [ 1.41523588,  0.57491635],\n",
       "       [ 2.61667602, -0.34390315],\n",
       "       [ 1.97153105,  0.1797279 ],\n",
       "       [ 2.35000592,  0.04026095],\n",
       "       [ 3.39703874, -0.55083667],\n",
       "       [ 0.52123224,  1.19275873],\n",
       "       [ 2.93258707, -0.3555    ],\n",
       "       [ 2.32122882,  0.2438315 ],\n",
       "       [ 2.91675097, -0.78279195],\n",
       "       [ 1.66177415, -0.24222841],\n",
       "       [ 1.80340195,  0.21563762],\n",
       "       [ 2.1655918 , -0.21627559],\n",
       "       [ 1.34616358,  0.77681835],\n",
       "       [ 1.58592822,  0.53964071],\n",
       "       [ 1.90445637, -0.11925069],\n",
       "       [ 1.94968906, -0.04194326],\n",
       "       [ 3.48705536, -1.17573933],\n",
       "       [ 3.79564542, -0.25732297],\n",
       "       [ 1.30079171,  0.76114964],\n",
       "       [ 2.42781791, -0.37819601],\n",
       "       [ 1.19900111,  0.60609153],\n",
       "       [ 3.49992004, -0.4606741 ],\n",
       "       [ 1.38876613,  0.20439933],\n",
       "       [ 2.2754305 , -0.33499061],\n",
       "       [ 2.61409047, -0.56090136],\n",
       "       [ 1.25850816,  0.17970479],\n",
       "       [ 1.29113206,  0.11666865],\n",
       "       [ 2.12360872,  0.20972948],\n",
       "       [ 2.38800302, -0.4646398 ],\n",
       "       [ 2.84167278, -0.37526917],\n",
       "       [ 3.23067366, -1.37416509],\n",
       "       [ 2.15943764,  0.21727758],\n",
       "       [ 1.44416124,  0.14341341],\n",
       "       [ 1.78129481,  0.49990168],\n",
       "       [ 3.07649993, -0.68808568],\n",
       "       [ 2.14424331, -0.1400642 ],\n",
       "       [ 1.90509815, -0.04930053],\n",
       "       [ 1.16932634,  0.16499026],\n",
       "       [ 2.10761114, -0.37228787],\n",
       "       [ 2.31415471, -0.18365128],\n",
       "       [ 1.9222678 , -0.40920347],\n",
       "       [ 1.41523588,  0.57491635],\n",
       "       [ 2.56301338, -0.2778626 ],\n",
       "       [ 2.41874618, -0.3047982 ],\n",
       "       [ 1.94410979, -0.1875323 ],\n",
       "       [ 1.52716661,  0.37531698],\n",
       "       [ 1.76434572, -0.07885885],\n",
       "       [ 1.90094161, -0.11662796],\n",
       "       [ 1.39018886,  0.28266094]])"
      ]
     },
     "execution_count": 139,
     "metadata": {},
     "output_type": "execute_result"
    }
   ],
   "source": [
    "A_centered = A - np.mean(A, axis=0) \n",
    "A_centered"
   ]
  },
  {
   "cell_type": "code",
   "execution_count": 142,
   "metadata": {},
   "outputs": [
    {
     "data": {
      "text/plain": [
       "array([[227.67644905, -23.74089834],\n",
       "       [-53.24986124, -26.4011344 ],\n",
       "       [539.70934728,   6.26879859],\n",
       "       [225.72506561,   2.7292383 ]])"
      ]
     },
     "execution_count": 142,
     "metadata": {},
     "output_type": "execute_result"
    }
   ],
   "source": [
    "corr = np.dot(Z.T, A_centered)\n",
    "corr"
   ]
  },
  {
   "cell_type": "code",
   "execution_count": 155,
   "metadata": {},
   "outputs": [
    {
     "data": {
      "text/plain": [
       "(array([102.16833333,  28.30693333, 464.3254    ,  86.56993333]),\n",
       " array([630.0080142 ,  36.15794144]))"
      ]
     },
     "execution_count": 155,
     "metadata": {},
     "output_type": "execute_result"
    }
   ],
   "source": [
    "a = np.sum(Z ** 2, axis=0)\n",
    "b = np.sum(A_centered ** 2, axis=0)\n",
    "a, b"
   ]
  },
  {
   "cell_type": "code",
   "execution_count": 173,
   "metadata": {},
   "outputs": [
    {
     "data": {
      "text/plain": [
       "array([[102.16833333, 102.16833333],\n",
       "       [ 28.30693333,  28.30693333],\n",
       "       [464.3254    , 464.3254    ],\n",
       "       [ 86.56993333,  86.56993333]])"
      ]
     },
     "execution_count": 173,
     "metadata": {},
     "output_type": "execute_result"
    }
   ],
   "source": [
    "aa = np.column_stack((a, a))\n",
    "aa"
   ]
  },
  {
   "cell_type": "code",
   "execution_count": 174,
   "metadata": {},
   "outputs": [
    {
     "data": {
      "text/plain": [
       "array([[ 64366.86879737,   3694.19661383],\n",
       "       [ 17833.5948574 ,   1023.52043785],\n",
       "       [292528.72319625,  16789.05062294],\n",
       "       [ 54539.75178869,   3130.19058005]])"
      ]
     },
     "execution_count": 174,
     "metadata": {},
     "output_type": "execute_result"
    }
   ],
   "source": [
    "aa * b"
   ]
  },
  {
   "cell_type": "code",
   "execution_count": 176,
   "metadata": {},
   "outputs": [
    {
     "data": {
      "text/plain": [
       "array([[253.7062648 ,  60.77990304],\n",
       "       [133.54248334,  31.99250596],\n",
       "       [540.85924527, 129.57256894],\n",
       "       [233.53747406,  55.94810613]])"
      ]
     },
     "execution_count": 176,
     "metadata": {},
     "output_type": "execute_result"
    }
   ],
   "source": [
    "np.sqrt(aa * b)"
   ]
  },
  {
   "cell_type": "code",
   "execution_count": 177,
   "metadata": {},
   "outputs": [
    {
     "data": {
      "text/plain": [
       "array([[227.67644905, -23.74089834],\n",
       "       [-53.24986124, -26.4011344 ],\n",
       "       [539.70934728,   6.26879859],\n",
       "       [225.72506561,   2.7292383 ]])"
      ]
     },
     "execution_count": 177,
     "metadata": {},
     "output_type": "execute_result"
    }
   ],
   "source": [
    "corr"
   ]
  },
  {
   "cell_type": "markdown",
   "metadata": {},
   "source": [
    "### Ответ"
   ]
  },
  {
   "cell_type": "code",
   "execution_count": 178,
   "metadata": {},
   "outputs": [
    {
     "data": {
      "text/plain": [
       "array([[ 0.89740176, -0.39060441],\n",
       "       [-0.39874847, -0.82522871],\n",
       "       [ 0.99787394,  0.0483806 ],\n",
       "       [ 0.96654752,  0.0487816 ]])"
      ]
     },
     "execution_count": 178,
     "metadata": {},
     "output_type": "execute_result"
    }
   ],
   "source": [
    "corr / np.sqrt(aa * b)"
   ]
  }
 ],
 "metadata": {
  "kernelspec": {
   "display_name": "Python 3",
   "language": "python",
   "name": "python3"
  },
  "language_info": {
   "codemirror_mode": {
    "name": "ipython",
    "version": 3
   },
   "file_extension": ".py",
   "mimetype": "text/x-python",
   "name": "python",
   "nbconvert_exporter": "python",
   "pygments_lexer": "ipython3",
   "version": "3.7.5"
  }
 },
 "nbformat": 4,
 "nbformat_minor": 4
}
