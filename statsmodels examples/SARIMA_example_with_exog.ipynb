{
 "cells": [
  {
   "cell_type": "code",
   "execution_count": null,
   "metadata": {
    "collapsed": true
   },
   "outputs": [],
   "source": [
    "import warnings\n",
    "warnings.filterwarnings('ignore')\n",
    "\n",
    "import pandas as pd\n",
    "import matplotlib.pyplot as plt\n",
    "%matplotlib inline\n",
    "\n",
    "\n",
    "from statsmodels.tsa.statespace.sarimax import SARIMAX"
   ]
  },
  {
   "cell_type": "code",
   "execution_count": null,
   "metadata": {
    "scrolled": true
   },
   "outputs": [],
   "source": [
    "data = pd.read_excel('data.xlsx', parse_dates=['period'])\n",
    "exog = pd.read_excel('exog_forecast.xlsx').sort_index().asfreq('M')\n",
    "\n",
    "keys = ['ТБ', 'dept_id', 'Group_500', 'Валюта']\n",
    "for key, group in data.groupby(by=keys):\n",
    "    group.drop(keys, axis=1, inplace=True)\n",
    "    group = group.set_index('period').sort_index().squeeze().asfreq('M')\n",
    "    break\n",
    "\n",
    "group.plot()\n",
    "plt.show()"
   ]
  },
  {
   "cell_type": "code",
   "execution_count": null,
   "metadata": {},
   "outputs": [],
   "source": [
    "exog.plot()"
   ]
  },
  {
   "cell_type": "code",
   "execution_count": null,
   "metadata": {
    "scrolled": true
   },
   "outputs": [],
   "source": [
    "from itertools import product\n",
    "\n",
    "train, test = group[:-12], group[-12:]\n",
    "params = list(product(range(1, 4), range(1, 4), range(1, 4), range(2), range(1, 2), range(1)))\n",
    "MAPE_dict = {}\n",
    "\n",
    "for param in params:\n",
    "    model = SARIMAX(train, exog=exog.loc[train.index], order=(param[0], param[1], param[2]),\n",
    "                    seasonal_order=(param[3], param[4], param[5], 12),\n",
    "                    mle_regression=False, enforce_stationarity=False, enforce_invertibility=False).fit()\n",
    "    forecast = model.forecast(len(test), exog=exog[~exog.index.isin(train.index)][:len(test)])\n",
    "    MAPE = abs(forecast / test - 1).mean()\n",
    "    MAPE_dict.update({MAPE: param})\n",
    "\n",
    "min_MAPE = min(list(MAPE_dict.keys()))\n",
    "param = MAPE_dict[min_MAPE]\n",
    "\n",
    "model = SARIMAX(train, exog=exog.loc[train.index], order=(param[0], param[1], param[2]),\n",
    "                    seasonal_order=(param[3], param[4], param[5], 12),\n",
    "                    mle_regression=False, enforce_stationarity=False, enforce_invertibility=False).fit()\n",
    "forecast = model.forecast(len(test), \n",
    "                          exog=exog[~exog.index.isin(train.index)][:len(test)])\n",
    "\n",
    "\n",
    "sMAPE = (f'{min_MAPE:0.2%}')\n",
    "\n",
    "plt.suptitle('MAPE: ' + sMAPE)\n",
    "group.plot()\n",
    "forecast.append(train.last('M')).sort_index().plot()\n",
    "plt.show()"
   ]
  },
  {
   "cell_type": "code",
   "execution_count": null,
   "metadata": {},
   "outputs": [],
   "source": [
    "tmp_exog = exog[~exog.index.isin(train.index)]\n",
    "tmp_exog.shape"
   ]
  },
  {
   "cell_type": "code",
   "execution_count": null,
   "metadata": {},
   "outputs": [],
   "source": [
    "param"
   ]
  },
  {
   "cell_type": "code",
   "execution_count": null,
   "metadata": {
    "collapsed": true
   },
   "outputs": [],
   "source": []
  },
  {
   "cell_type": "markdown",
   "metadata": {},
   "source": [
    "Лин.регрессия, ошибки, Sarima(ошибки) "
   ]
  },
  {
   "cell_type": "code",
   "execution_count": null,
   "metadata": {
    "collapsed": true
   },
   "outputs": [],
   "source": [
    "import numpy as np\n",
    "from sklearn.linear_model import LinearRegression"
   ]
  },
  {
   "cell_type": "code",
   "execution_count": null,
   "metadata": {},
   "outputs": [],
   "source": [
    "exog.index"
   ]
  },
  {
   "cell_type": "code",
   "execution_count": null,
   "metadata": {},
   "outputs": [],
   "source": [
    "tmp_exog = exog.reset_index()\n",
    "np.array(tmp_exog.index).reshape(-1, 1)\n"
   ]
  },
  {
   "cell_type": "code",
   "execution_count": null,
   "metadata": {},
   "outputs": [],
   "source": [
    "np.array(tmp_exog.index)"
   ]
  },
  {
   "cell_type": "code",
   "execution_count": null,
   "metadata": {
    "scrolled": true
   },
   "outputs": [],
   "source": [
    "np.array(tmp_exog.index).reshape(-1, 1).reshape(1, -1)[0]"
   ]
  },
  {
   "cell_type": "code",
   "execution_count": null,
   "metadata": {
    "scrolled": true
   },
   "outputs": [],
   "source": [
    "X_test[0][0]"
   ]
  },
  {
   "cell_type": "code",
   "execution_count": null,
   "metadata": {
    "scrolled": true
   },
   "outputs": [],
   "source": [
    "exog.index[X_test[0][0]:]"
   ]
  },
  {
   "cell_type": "code",
   "execution_count": null,
   "metadata": {},
   "outputs": [],
   "source": [
    "Y_pred.reshape(1, -1)[0]"
   ]
  },
  {
   "cell_type": "code",
   "execution_count": null,
   "metadata": {},
   "outputs": [],
   "source": [
    "prediction = pd.Series(Y_pred.reshape(1, -1)[0], index=exog.index[X_test[0][0]:])\n",
    "prediction.plot()"
   ]
  },
  {
   "cell_type": "code",
   "execution_count": null,
   "metadata": {
    "collapsed": true
   },
   "outputs": [],
   "source": []
  },
  {
   "cell_type": "code",
   "execution_count": null,
   "metadata": {},
   "outputs": [],
   "source": [
    "X = np.array(tmp_exog.index).reshape(-1, 1)\n",
    "Y = np.array(exog.values).reshape(-1, 1)\n",
    "\n",
    "X_train, X_test = X[:-12], X[-12:]\n",
    "Y_train, Y_test = Y[:-12], Y[-12:]\n",
    "\n",
    "lin_reg = LinearRegression()\n",
    "lin_reg.fit(X_train, Y_train)\n",
    "Y_pred = lin_reg.predict(X_test)\n",
    "\n",
    "exog.plot()\n",
    "prediction = pd.Series(Y_pred.reshape(1, -1)[0],\n",
    "                       index=exog.index[X_test[0][0]:])\n",
    "prediction.plot()\n",
    "plt.show()"
   ]
  },
  {
   "cell_type": "code",
   "execution_count": null,
   "metadata": {
    "collapsed": true
   },
   "outputs": [],
   "source": []
  },
  {
   "cell_type": "code",
   "execution_count": null,
   "metadata": {
    "collapsed": true
   },
   "outputs": [],
   "source": []
  },
  {
   "cell_type": "code",
   "execution_count": null,
   "metadata": {
    "collapsed": true
   },
   "outputs": [],
   "source": []
  },
  {
   "cell_type": "code",
   "execution_count": null,
   "metadata": {
    "collapsed": true
   },
   "outputs": [],
   "source": []
  }
 ],
 "metadata": {
  "kernelspec": {
   "display_name": "Python 3",
   "language": "python",
   "name": "python3"
  },
  "language_info": {
   "codemirror_mode": {
    "name": "ipython",
    "version": 3
   },
   "file_extension": ".py",
   "mimetype": "text/x-python",
   "name": "python",
   "nbconvert_exporter": "python",
   "pygments_lexer": "ipython3",
   "version": "3.6.1"
  }
 },
 "nbformat": 4,
 "nbformat_minor": 2
}
