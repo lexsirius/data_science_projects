{
 "cells": [
  {
   "cell_type": "code",
   "execution_count": null,
   "metadata": {
    "collapsed": true
   },
   "outputs": [],
   "source": [
    "import pandas as pd\n",
    "import matplotlib.pyplot as plt\n",
    "%matplotlib inline\n",
    "\n",
    "\n",
    "from statsmodels.tsa.statespace.sarimax import SARIMAX"
   ]
  },
  {
   "cell_type": "code",
   "execution_count": null,
   "metadata": {
    "scrolled": true
   },
   "outputs": [],
   "source": [
    "data = pd.read_excel('exog.xlsx', parse_dates=['report_dt'])\n",
    "data = data[['report_dt', 'value']].set_index('report_dt').sort_index().squeeze().asfreq('M')\n",
    "data.plot()\n",
    "plt.show()"
   ]
  },
  {
   "cell_type": "code",
   "execution_count": null,
   "metadata": {},
   "outputs": [],
   "source": [
    "data"
   ]
  },
  {
   "cell_type": "code",
   "execution_count": null,
   "metadata": {
    "scrolled": false
   },
   "outputs": [],
   "source": [
    "train, test = data[:-7], data[-7:]\n",
    "model = SARIMAX(train, order=(3, 3, 3), seasonal_order=(1, 1, 0, 12), \n",
    "                mle_regression=False, enforce_stationarity=False, enforce_invertibility=False).fit()\n",
    "forecast = model.forecast(len(test))\n",
    "\n",
    "MAPE = abs(forecast / test - 1).mean()\n",
    "sMAPE = (f'{MAPE:0.2%}')\n",
    "\n",
    "plt.suptitle('MAPE: ' + sMAPE)\n",
    "data.plot()\n",
    "forecast.append(train.last('M')).sort_index().plot()\n",
    "plt.show()"
   ]
  },
  {
   "cell_type": "code",
   "execution_count": null,
   "metadata": {},
   "outputs": [],
   "source": [
    "model = SARIMAX(data, order=(3, 3, 3), seasonal_order=(1, 1, 0, 12), \n",
    "                mle_regression=False, enforce_stationarity=False, enforce_invertibility=False).fit()\n",
    "forecast = model.forecast(12)\n",
    "\n",
    "data.plot()\n",
    "forecast.append(data.last('M')).sort_index().plot()\n",
    "plt.show()"
   ]
  },
  {
   "cell_type": "code",
   "execution_count": null,
   "metadata": {
    "collapsed": true
   },
   "outputs": [],
   "source": [
    "full_forecast = data.append(forecast).sort_index()\n",
    "full_forecast.to_excel('exog_forecast.xlsx')"
   ]
  },
  {
   "cell_type": "code",
   "execution_count": null,
   "metadata": {},
   "outputs": [],
   "source": [
    "full_forecast"
   ]
  },
  {
   "cell_type": "code",
   "execution_count": null,
   "metadata": {
    "collapsed": true
   },
   "outputs": [],
   "source": []
  },
  {
   "cell_type": "code",
   "execution_count": null,
   "metadata": {
    "collapsed": true
   },
   "outputs": [],
   "source": []
  },
  {
   "cell_type": "code",
   "execution_count": null,
   "metadata": {
    "collapsed": true
   },
   "outputs": [],
   "source": []
  },
  {
   "cell_type": "code",
   "execution_count": null,
   "metadata": {},
   "outputs": [],
   "source": [
    "from itertools import product\n",
    "params = list(product(range(1, 4), range(1, 4), range(1, 4), range(2), range(2), range(1)))\n",
    "len(params), params"
   ]
  },
  {
   "cell_type": "code",
   "execution_count": null,
   "metadata": {},
   "outputs": [],
   "source": [
    "MAPE_dict = {}\n",
    "\n",
    "for param in params:\n",
    "    model = SARIMAX(train, order=(param[0], param[1], param[2]),\n",
    "                    seasonal_order=(param[3], param[4], param[5], 12),\n",
    "                    mle_regression=False, enforce_stationarity=False, enforce_invertibility=False).fit()\n",
    "    forecast = model.forecast(len(test))\n",
    "    MAPE = abs(forecast / test - 1).mean()\n",
    "#     sMAPE = (f'{MAPE:0.2%}')\n",
    "    MAPE_dict.update({MAPE: param})"
   ]
  },
  {
   "cell_type": "code",
   "execution_count": null,
   "metadata": {},
   "outputs": [],
   "source": [
    "MAPE_dict"
   ]
  },
  {
   "cell_type": "code",
   "execution_count": null,
   "metadata": {},
   "outputs": [],
   "source": [
    "min_MAPE = min(list(MAPE_dict.keys()))\n",
    "min_MAPE, MAPE_dict[min_MAPE]"
   ]
  }
 ],
 "metadata": {
  "kernelspec": {
   "display_name": "Python 3",
   "language": "python",
   "name": "python3"
  },
  "language_info": {
   "codemirror_mode": {
    "name": "ipython",
    "version": 3
   },
   "file_extension": ".py",
   "mimetype": "text/x-python",
   "name": "python",
   "nbconvert_exporter": "python",
   "pygments_lexer": "ipython3",
   "version": "3.6.1"
  }
 },
 "nbformat": 4,
 "nbformat_minor": 2
}
