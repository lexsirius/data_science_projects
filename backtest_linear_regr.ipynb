{
 "cells": [
  {
   "cell_type": "code",
   "execution_count": null,
   "metadata": {
    "collapsed": true
   },
   "outputs": [],
   "source": [
    "import warnings\n",
    "warnings.filterwarnings('ignore')\n",
    "\n",
    "import pandas as pd\n",
    "import numpy as np\n",
    "import matplotlib.pyplot as plt\n",
    "%matplotlib inline\n",
    "from sklearn.linear_model import LinearRegression\n",
    "\n",
    "from sqlalchemy import create_engine"
   ]
  },
  {
   "cell_type": "code",
   "execution_count": null,
   "metadata": {
    "collapsed": true
   },
   "outputs": [],
   "source": [
    "data = pd.read_excel('data.xlsx', parse_dates=['period'])"
   ]
  },
  {
   "cell_type": "code",
   "execution_count": null,
   "metadata": {
    "collapsed": true
   },
   "outputs": [],
   "source": [
    "sber_values = {}\n",
    "for k, g in data.groupby(by='period'):\n",
    "    sber_values.update({k: np.sum(g['Parametr_value'])})\n",
    "\n",
    "sber = pd.Series(sber_values)\n"
   ]
  },
  {
   "cell_type": "code",
   "execution_count": null,
   "metadata": {
    "scrolled": true
   },
   "outputs": [],
   "source": [
    "keys = ['ТБ', 'dept_id', 'Group_500', 'Валюта']\n",
    "backtest_size = 6 # backtest_size\n",
    "x_test = sber[-6:]\n",
    "x_train = sber[~sber.index.isin(x_test.index)][-6:]\n",
    "results = []\n",
    "\n",
    "for key, group in data.groupby(by = keys):\n",
    "    group = group[['period', 'Parametr_value']].\\\n",
    "            set_index('period').sort_index().squeeze().asfreq('M')\n",
    "        \n",
    "    y_test = group[x_test.index]\n",
    "    y_train = group[x_train.index]\n",
    "        \n",
    "    linear_reg = LinearRegression()\n",
    "    linear_reg.fit(x_train.values, y_train.values)\n",
    "    y_pred = linear_reg.predict(x_test.values)\n",
    "    break"
   ]
  },
  {
   "cell_type": "code",
   "execution_count": null,
   "metadata": {
    "scrolled": true
   },
   "outputs": [],
   "source": [
    "linear_reg.fit(x_train.to_sparse(), y_train.to_sparse())"
   ]
  },
  {
   "cell_type": "code",
   "execution_count": null,
   "metadata": {
    "collapsed": true
   },
   "outputs": [],
   "source": []
  },
  {
   "cell_type": "code",
   "execution_count": null,
   "metadata": {},
   "outputs": [],
   "source": [
    "MAPE = abs(y_pred / y_test - 1).mean()\n",
    "sMAPE = (f'{MAPE:0.2%}')\n",
    "\n",
    "plt.suptitle('MAPE: ' + sMAPE)\n",
    "group.plot()\n",
    "pd.Series(y_pred.reshape(1, -1)[0],\n",
    "          index=group.index[-len(y_test):]).plot()\n",
    "\n",
    "plt.show()"
   ]
  },
  {
   "cell_type": "code",
   "execution_count": null,
   "metadata": {
    "scrolled": true
   },
   "outputs": [],
   "source": [
    "results_df.groupby(by=keys).error.mean().mean()"
   ]
  },
  {
   "cell_type": "code",
   "execution_count": null,
   "metadata": {
    "collapsed": true
   },
   "outputs": [],
   "source": [
    "engine = create_engine('mssql+pyodbc://MSSQL_DSN')\n",
    "engine.execute('USE Model_Passiv_FL_ML')        \n",
    "\n",
    "results_df.to_sql(name = 't_for_fedor_my_gosb_fast_result', \n",
    "                  con =  engine, schema = 'dbo',\n",
    "                  index = False,\n",
    "                  if_exists='append')"
   ]
  }
 ],
 "metadata": {
  "kernelspec": {
   "display_name": "Python 3",
   "language": "python",
   "name": "python3"
  },
  "language_info": {
   "codemirror_mode": {
    "name": "ipython",
    "version": 3
   },
   "file_extension": ".py",
   "mimetype": "text/x-python",
   "name": "python",
   "nbconvert_exporter": "python",
   "pygments_lexer": "ipython3",
   "version": "3.6.8"
  }
 },
 "nbformat": 4,
 "nbformat_minor": 2
}
